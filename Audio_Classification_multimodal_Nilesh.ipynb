{
  "nbformat": 4,
  "nbformat_minor": 0,
  "metadata": {
    "colab": {
      "private_outputs": true,
      "provenance": [],
      "gpuType": "T4",
      "authorship_tag": "ABX9TyNVTKCX5dMjizh/w48syffB",
      "include_colab_link": true
    },
    "kernelspec": {
      "name": "python3",
      "display_name": "Python 3"
    },
    "language_info": {
      "name": "python"
    },
    "accelerator": "GPU"
  },
  "cells": [
    {
      "cell_type": "markdown",
      "metadata": {
        "id": "view-in-github",
        "colab_type": "text"
      },
      "source": [
        "<a href=\"https://colab.research.google.com/github/nilesh3030/Natural-Language-Processing/blob/main/Audio_Classification_multimodal_Nilesh.ipynb\" target=\"_parent\"><img src=\"https://colab.research.google.com/assets/colab-badge.svg\" alt=\"Open In Colab\"/></a>"
      ]
    },
    {
      "cell_type": "code",
      "execution_count": null,
      "metadata": {
        "id": "8t2USJCKCIz_"
      },
      "outputs": [],
      "source": [
        "from google.colab import drive\n",
        "\n",
        "# Mount Google Drive\n",
        "drive.mount('/content/gdrive')"
      ]
    },
    {
      "cell_type": "code",
      "source": [
        "import warnings\n",
        "\n",
        "# Ignore all warnings\n",
        "warnings.filterwarnings(\"ignore\")"
      ],
      "metadata": {
        "id": "Zf8_G-oDKxLm"
      },
      "execution_count": null,
      "outputs": []
    },
    {
      "cell_type": "code",
      "source": [
        "import pandas as pd\n",
        "\n",
        "excel_file_path = '/content/gdrive/MyDrive/7_KESDy18/SER-DB-ETRIv18_emotion_label_annotation.xlsx'\n",
        "\n",
        "# Read Excel file into a pandas DataFrame, without using any header\n",
        "df = pd.read_excel(excel_file_path, header=None)\n",
        "\n",
        "# Concatenate the first and second rows to create a single header row\n",
        "header_row = df.iloc[0] + '_' + df.iloc[1].astype(str)\n",
        "df.columns = header_row\n",
        "\n",
        "# Drop the first two rows as they are now included in the header\n",
        "df = df.drop([0, 1])\n",
        "\n",
        "# Display the DataFrame\n",
        "print(df.head())"
      ],
      "metadata": {
        "id": "8NKJMgaxKN9f"
      },
      "execution_count": null,
      "outputs": []
    },
    {
      "cell_type": "code",
      "source": [
        "df.shape"
      ],
      "metadata": {
        "id": "iIOvm4zKKOEC"
      },
      "execution_count": null,
      "outputs": []
    },
    {
      "cell_type": "code",
      "source": [
        "df['Total Evaluation_Emotion'].value_counts()"
      ],
      "metadata": {
        "id": "qS_dPVDEKOG9"
      },
      "execution_count": null,
      "outputs": []
    },
    {
      "cell_type": "markdown",
      "source": [
        "We can see that there are few lables which have multiple emotions so for the simplicity of our analysis we will keep only those records which have a single emotion. Also we can see that data is skewed where neural emotion has almost 50% of the records so this is a clear case of imbalanced dataset."
      ],
      "metadata": {
        "id": "esricFOoqpYg"
      }
    },
    {
      "cell_type": "code",
      "source": [
        "import librosa\n",
        "import librosa.display\n",
        "import matplotlib.pyplot as plt\n",
        "import numpy as np\n",
        "import os\n",
        "\n",
        "# Replace 'your_audio.wav' with the actual path to your .wav file\n",
        "audio_file_path = '/content/gdrive/MyDrive/7_KESDy18/004/dy/angry/004_dy_a_02.wav'\n",
        "\n",
        "# Load the audio file\n",
        "y, sr = librosa.load(audio_file_path, sr=None)\n",
        "\n",
        "# Calculate the time values for x-axis\n",
        "time = np.arange(0, len(y)) / sr\n",
        "\n",
        "# Plot the waveform\n",
        "plt.figure(figsize=(14, 5))\n",
        "librosa.display.waveshow(y, sr=sr)\n",
        "plt.title('Waveform of Audio')\n",
        "plt.xlabel('Time (s)')\n",
        "plt.ylabel('Amplitude')\n",
        "plt.show()"
      ],
      "metadata": {
        "id": "v0acmYtdKOJy"
      },
      "execution_count": null,
      "outputs": []
    },
    {
      "cell_type": "code",
      "source": [
        "# sample rate of the audio file\n",
        "sr"
      ],
      "metadata": {
        "id": "CeBfPsOmLZFF"
      },
      "execution_count": null,
      "outputs": []
    },
    {
      "cell_type": "markdown",
      "source": [
        "MFCCs capture the essential spectral characteristics of the audio signal. The first few coefficients often represent the overall spectral shape, while higher-order coefficients capture finer details."
      ],
      "metadata": {
        "id": "KepKLNXsrbkz"
      }
    },
    {
      "cell_type": "code",
      "source": [
        "mfccs = librosa.feature.mfcc(y=y, sr=sr, n_mfcc=40)\n",
        "print(mfccs.shape)"
      ],
      "metadata": {
        "id": "zEsUt3voLZKJ"
      },
      "execution_count": null,
      "outputs": []
    },
    {
      "cell_type": "code",
      "source": [
        "# Function of extarct the MFCC features\n",
        "def extract_features(file_path):\n",
        "    audio, sample_rate = librosa.load(file_path)\n",
        "    mfccs_features = librosa.feature.mfcc(y=audio, sr=sample_rate, n_mfcc=40)\n",
        "    mfccs_scaled_features = np.mean(mfccs_features.T,axis=0)\n",
        "\n",
        "    return mfccs_scaled_features\n",
        "\n",
        "extract_features(audio_file_path)"
      ],
      "metadata": {
        "id": "aD39TJYpLZQ9"
      },
      "execution_count": null,
      "outputs": []
    },
    {
      "cell_type": "code",
      "source": [
        "# root folder containing .wav files\n",
        "root_folder = '/content/gdrive/MyDrive/7_KESDy18/'\n",
        "\n",
        "# Create an empty list to store the results\n",
        "extracted_features=[]\n",
        "\n",
        "### Now we iterate through every audio file and extract features\n",
        "### using Mel-Frequency Cepstral Coefficients\n",
        "for root, dirs, files in os.walk(root_folder):\n",
        "    for file in files:\n",
        "        if file.endswith(\".wav\"):\n",
        "            file_path = os.path.join(root, file)\n",
        "            # Extract features and add them to the DataFrame\n",
        "            features = extract_features(file_path)\n",
        "            extracted_features.append([file,features])\n",
        "\n",
        "### converting extracted_features to Pandas dataframe\n",
        "extracted_features_df=pd.DataFrame(extracted_features,columns=['file','features'])\n",
        "extracted_features_df.head()"
      ],
      "metadata": {
        "id": "DSwSqpGbL30b"
      },
      "execution_count": null,
      "outputs": []
    },
    {
      "cell_type": "code",
      "source": [
        "# !pip install googletrans==4.0.0-rc1\n",
        "# !pip install nltk"
      ],
      "metadata": {
        "id": "YX6ElKdcMwiV"
      },
      "execution_count": null,
      "outputs": []
    },
    {
      "cell_type": "code",
      "source": [
        "import glob\n",
        "import googletrans\n",
        "from googletrans import Translator\n",
        "import nltk\n",
        "from nltk.corpus import stopwords\n",
        "from nltk.tokenize import word_tokenize\n",
        "from nltk.stem import PorterStemmer\n",
        "\n",
        "# Download NLTK resources\n",
        "nltk.download('punkt')\n",
        "nltk.download('stopwords')"
      ],
      "metadata": {
        "id": "UOmc1ZBdM5gR"
      },
      "execution_count": null,
      "outputs": []
    },
    {
      "cell_type": "code",
      "source": [
        "# Function to translate text to English\n",
        "def translate_to_english(text):\n",
        "    translator = Translator()\n",
        "    translation = translator.translate(text, src='auto', dest='en')\n",
        "    return translation.text\n",
        "\n",
        "# Function for text preprocessing\n",
        "def preprocess_text(text):\n",
        "    # Tokenization\n",
        "    tokens = word_tokenize(text)\n",
        "\n",
        "    # Remove stop words\n",
        "    stop_words = set(stopwords.words('english'))\n",
        "    filtered_tokens = [word for word in tokens if word.lower() not in stop_words]\n",
        "\n",
        "    # Stemming\n",
        "    ps = PorterStemmer()\n",
        "    stemmed_tokens = [ps.stem(word) for word in filtered_tokens]\n",
        "\n",
        "    # Join tokens back to text\n",
        "    preprocessed_text = ' '.join(stemmed_tokens)\n",
        "\n",
        "    return preprocessed_text"
      ],
      "metadata": {
        "id": "coNFXYKOM5jK"
      },
      "execution_count": null,
      "outputs": []
    },
    {
      "cell_type": "code",
      "source": [
        "# List to store file names and preprocessed text\n",
        "file_names = []\n",
        "preprocessed_texts = []\n",
        "\n",
        "# Loop through all text files in the folder\n",
        "for root, dirs, files in os.walk(root_folder):\n",
        "    for file_name in files:\n",
        "        if file_name.endswith(\".txt\"):\n",
        "            # Construct the full path to the file\n",
        "            file_path = os.path.join(root, file_name)\n",
        "\n",
        "            # Read the text from the file using 'cp949' encoding\n",
        "            with open(file_path, 'r', encoding='cp949') as file:\n",
        "                text = file.read()\n",
        "\n",
        "            # Translate to English\n",
        "            translated_text = translate_to_english(text)\n",
        "\n",
        "            # Preprocess the text\n",
        "            preprocessed_text = preprocess_text(translated_text)\n",
        "\n",
        "            # Replace the extension with '.wav'\n",
        "            new_file_name = os.path.splitext(file_name)[0] + '.wav'\n",
        "\n",
        "            # Append file name and preprocessed text to lists\n",
        "            file_names.append(new_file_name)\n",
        "            preprocessed_texts.append(preprocessed_text)"
      ],
      "metadata": {
        "id": "dy5RwQBIM5mR"
      },
      "execution_count": null,
      "outputs": []
    },
    {
      "cell_type": "code",
      "source": [
        "# Create a DataFrame to store file names and preprocessed texts\n",
        "df_text = pd.DataFrame({'File_Name': file_names, 'Preprocessed_Text': preprocessed_texts})"
      ],
      "metadata": {
        "id": "TYvoknPkNafm"
      },
      "execution_count": null,
      "outputs": []
    },
    {
      "cell_type": "code",
      "source": [
        "print(df_text.shape)\n",
        "df_text.head()"
      ],
      "metadata": {
        "id": "nFoao6mmNf8i"
      },
      "execution_count": null,
      "outputs": []
    },
    {
      "cell_type": "code",
      "source": [
        "import matplotlib.pyplot as plt\n",
        "\n",
        "# column containing text\n",
        "text_data = df_text['Preprocessed_Text']\n",
        "\n",
        "# Calculate word lengths\n",
        "word_lengths = text_data.apply(lambda x: len(x.split()))\n",
        "\n",
        "# Plot histogram\n",
        "plt.hist(word_lengths, bins=20, color='blue', edgecolor='black')\n",
        "plt.xlabel('Word Length')\n",
        "plt.ylabel('Frequency')\n",
        "plt.title('Histogram of Word Lengths')\n",
        "plt.show()"
      ],
      "metadata": {
        "id": "SzZbXAM8gl6s"
      },
      "execution_count": null,
      "outputs": []
    },
    {
      "cell_type": "markdown",
      "source": [],
      "metadata": {
        "id": "TeVuvk8urm0T"
      }
    },
    {
      "cell_type": "markdown",
      "source": [
        "We can see most of the text are less than 10 words so we will choose the max length of 10 while doing the padding for the inputs"
      ],
      "metadata": {
        "id": "KVWebis3rm7X"
      }
    },
    {
      "cell_type": "code",
      "source": [
        "# Inner join on different columns\n",
        "merge_text_label = pd.merge(df_text, df, left_on='File_Name', right_on='Segment ID_nan', how='inner')\n",
        "final_df = pd.merge(merge_text_label, extracted_features_df, left_on='File_Name', right_on='file', how='inner')\n",
        "final_df.shape"
      ],
      "metadata": {
        "id": "wVwCYBTMPkph"
      },
      "execution_count": null,
      "outputs": []
    },
    {
      "cell_type": "code",
      "source": [
        "final_df.head()"
      ],
      "metadata": {
        "id": "TNN1ol8Sg9LL"
      },
      "execution_count": null,
      "outputs": []
    },
    {
      "cell_type": "code",
      "source": [
        "# Filter only relevant colmuns\n",
        "model_df = final_df[['features', 'Preprocessed_Text', 'Total Evaluation_Emotion']]\n",
        "\n",
        "# List of emotions to filter\n",
        "filter_values = ['neutral', 'sad', 'angry', 'happy', 'surprise', 'disgust', 'fear']\n",
        "\n",
        "# Filter the DataFrame based on the list of emotions\n",
        "filter_df = model_df[model_df['Total Evaluation_Emotion'].isin(filter_values)]"
      ],
      "metadata": {
        "id": "tdKFhmxMPksh"
      },
      "execution_count": null,
      "outputs": []
    },
    {
      "cell_type": "code",
      "source": [
        "filter_df.shape"
      ],
      "metadata": {
        "id": "hjTzYyq5hRuX"
      },
      "execution_count": null,
      "outputs": []
    },
    {
      "cell_type": "code",
      "source": [
        "import numpy as np\n",
        "from tensorflow.keras.preprocessing.text import Tokenizer\n",
        "from tensorflow.keras.preprocessing.sequence import pad_sequences\n",
        "max_text_length = 10\n",
        "\n",
        "def preprocess_data():\n",
        "    # pad text data\n",
        "    X_text = filter_df.Preprocessed_Text\n",
        "    tokenizer = Tokenizer()\n",
        "    tokenizer.fit_on_texts(X_text)\n",
        "\n",
        "    # Convert text data to integer sequences\n",
        "    X_text = tokenizer.texts_to_sequences(X_text)\n",
        "    X_text = np.array(pad_sequences(X_text, maxlen=max_text_length, padding='post').tolist())\n",
        "\n",
        "    # MFCC features\n",
        "    mfcc_data = np.array(filter_df.features.tolist())\n",
        "\n",
        "    # labels\n",
        "    labels = np.array(filter_df['Total Evaluation_Emotion'].tolist())\n",
        "\n",
        "    return X_text, mfcc_data, labels"
      ],
      "metadata": {
        "id": "TKO6X3IsPkvx"
      },
      "execution_count": null,
      "outputs": []
    },
    {
      "cell_type": "code",
      "source": [
        "from tensorflow.keras.models import Sequential, Model\n",
        "from tensorflow.keras.layers import Dense, Dropout, Activation, Flatten, Input, concatenate, Embedding\n",
        "from tensorflow.keras.optimizers import Adam\n",
        "from tensorflow.keras.utils import to_categorical\n",
        "from sklearn.model_selection import train_test_split\n",
        "from sklearn.preprocessing import LabelEncoder\n",
        "from sklearn.metrics import classification_report\n",
        "from datetime import datetime\n",
        "from tensorflow.keras.callbacks import ModelCheckpoint\n",
        "from tensorflow.keras.utils import to_categorical\n",
        "from sklearn.preprocessing import LabelEncoder\n",
        "\n",
        "\n",
        "# Assuming you have X_text and X_mfcc as your preprocessed text and MFCC features, respectively\n",
        "X_text, X_mfcc, y = preprocess_data()\n",
        "\n",
        "# Train-Test split\n",
        "X_text_train, X_text_test, X_mfcc_train, X_mfcc_test, y_train, y_test = train_test_split(\n",
        "    X_text, X_mfcc, y, test_size=0.2, random_state=0\n",
        ")\n",
        "\n",
        "# Label Encoding\n",
        "label_encoder = LabelEncoder()\n",
        "y_train_encoded = to_categorical(label_encoder.fit_transform(y_train))\n",
        "y_test_encoded = to_categorical(label_encoder.transform(y_test))"
      ],
      "metadata": {
        "id": "5C8Wj95Tixm9"
      },
      "execution_count": null,
      "outputs": []
    },
    {
      "cell_type": "code",
      "source": [
        "# I have a preprocessed text input and MFCC feature input\n",
        "text_input = Input(shape=(max_text_length,), name='text_input')\n",
        "mfcc_input = Input(shape=(40,), name='mfcc_input')\n",
        "\n",
        "# text processing layers\n",
        "text_embedding = Embedding(input_dim=2000, output_dim=40)(text_input)\n",
        "text_flatten = Flatten()(text_embedding)\n",
        "\n",
        "# MFCC processing layers\n",
        "mfcc_dense = Dense(100, activation='relu')(mfcc_input)\n",
        "\n",
        "# Concatenate the processed text and MFCC features\n",
        "combined = concatenate([text_flatten, mfcc_dense])\n",
        "\n",
        "# output layer\n",
        "num_labels = y_train_encoded.shape[1]\n",
        "output = Dense(num_labels, activation='softmax')(combined)\n",
        "\n",
        "# Create the model\n",
        "model = Model(inputs=[text_input, mfcc_input], outputs=output)\n",
        "\n",
        "# Compile the model\n",
        "model.compile(loss='categorical_crossentropy', metrics=['accuracy'], optimizer='adam')\n",
        "\n",
        "# Model Checkpoint\n",
        "checkpointer = ModelCheckpoint(filepath='saved_models/audio_classification.hdf5', verbose=1, save_best_only=True)\n",
        "\n",
        "# Training\n",
        "start = datetime.now()\n",
        "model.fit(\n",
        "    {'text_input': X_text_train, 'mfcc_input': X_mfcc_train},\n",
        "    y_train_encoded,\n",
        "    batch_size=32,\n",
        "    epochs=200,\n",
        "    validation_data=({'text_input': X_text_test, 'mfcc_input': X_mfcc_test}, y_test_encoded),\n",
        "    callbacks=[checkpointer],\n",
        "    verbose=1\n",
        ")\n",
        "duration = datetime.now() - start\n",
        "print(\"Training completed in time: \", duration)"
      ],
      "metadata": {
        "id": "-EBXy0_7Pkyj"
      },
      "execution_count": null,
      "outputs": []
    },
    {
      "cell_type": "code",
      "source": [
        "# Evaluation\n",
        "test_accuracy = model.evaluate([X_text_test, X_mfcc_test], y_test_encoded, verbose=0)\n",
        "print(test_accuracy[1])\n",
        "\n",
        "# Prediction and Classification Report\n",
        "y_pred_probabilities = model.predict([X_text_test, X_mfcc_test])\n",
        "y_pred_labels = np.argmax(y_pred_probabilities, axis=1)\n",
        "y_true_labels = np.argmax(y_test_encoded, axis=1)\n",
        "report = classification_report(y_true_labels, y_pred_labels)\n",
        "print(report)"
      ],
      "metadata": {
        "id": "sdrffG_VkjGH"
      },
      "execution_count": null,
      "outputs": []
    },
    {
      "cell_type": "markdown",
      "source": [
        "![image.png](data:image/png;base64,iVBORw0KGgoAAAANSUhEUgAAAZ0AAAD8CAYAAACsAHnpAAAgAElEQVR4Ae2dO7IjR7Jt71Q4Dw6CHAJHwAnUBDiAktkyW6Zc1hqVVkolrbWmRopU69k61/Z5m34jApFAfoEdZqjMjI+H+woP9wTqJPA/X1JCIARCIARCYCcC/7PTPJkmBEIgBEIgBL4k6cQJQiAEQiAEdiOQpLMb6kwUAiEQAiGQpBMfCIEQCIEQ2I1Aks5uqDNRCIRACITAoqTz66+/fvn666+/fPXVV29HrmfKX3/99eX7779/G8fYX3755Uuto54X/Wij0I+6b7/99suff/75t6l6bVXuTz/99D4OGcjSXFXuDz/88N7GuYrmYhz2t+xmHtrpq+K6uB6035IpeciULi6vpYvb19PD5bX0rDaoT44hEAIhsAaB6aRDQPvuu+/eAy6Bl+uaDKpSCoQ16NZ+XNNHAZZzEtCnT5/+T9K51aa50PGbb7551xnZHozpp74cNTe6cE5dldGyG5mw4CX5shv9sUPzIPuWTOb25NtiVXlJJvOTTKWHbGnZRpv0dP1686U+BEIgBB4lMJ10alDmeuaumODnAa+nMMHPk5r6KYjSXsuojb56Z6AAjM56d6NgS1udW20E/n/9619/0x+ZHz58eE9kGvv58+e3RKG5pKt08KBOH2fiMpHHvBxvFWS4XPpLd+nhsiXP5/dztecYAiEQAlsRmE46HuA416sGvaoo/T5+/Pj+sdbo4yn61kJQVKJY0kbf3ruS+tGU99M7hp9//vktCf773/9+OyoJoI8nW3SGgZIL7V5U75x8Pvq6TM5JOiQ25uFVx+ojzta7oZp0kC8dOZc+Gju7Pm5TzkMgBELgXgKLks6PP/74FhAVBD2Y9RSgjycNBVWCnwqBsvUuh3b6+3iNudXWCr7oLVke6JUESDRqVx1yGKcEQDLQOx1kYB9FwZw6L6oXM7WNZHpSG7FBhpKH5LbsVh1ySViso/SeWR/JzjEEQiAEHiUwnXQUJBVUFUx13VOEoOYB14O5xtBHQVB1OiJfiUB1OvbaFGRdt5a+6MW86u8BnLF+rTnpS/3vv//+dlQy8qOP07zOQLJ0lEyOdV6Nd1ta47wOXq3+6oMu0mdmfTQuxxAIgRB4lMB00qnJgqBWkwGBzO/SUa4GUfp4gkGu/2d/Nag1j/q02pDH3TxtXhS8FWxpQw/p4sG31Zf+vXpvm5l3pBeJx9/1Ve4+Fls8wdHG+FHSqcy4dhl1fXy+nIdACITAowSmkw4TEaB0R18TDu0ErJp0qCega5wHOLUp8HOt4nPVsaM2n6uOU0Cu9cyphKI2Jadaz9yton5q17Xk6Uh7bdMYyeVa/f3/wJRQ1ebcqm300ViXV/kzpzNrtUuvHEMgBELgUQKLks6jk2V8CIRACITAaxNI0nnt9Y/1IRACIbArgSSdXXFnshAIgRB4bQJJOq+9/rE+BEIgBHYlkKSzK+5MFgIhEAKvTSBJ57XXP9aHQAiEwK4EknR2xZ3JQiAEQuC1CeyedHgmRM/AbIVezwvxrIo/y7LVfJEbAq9AwJ8Taz2n9woMRjbq+bv63N1ozCu2LUo6/gCig/UgrwcX9WCiQ2U8Dx9yVNGDi+7EWjzJ0nH2wUX0SbIR4RxDYF0Co2/JWHMmT3KteHLPXP4g9NoxAn35Xkbi10x51Tg1nXQAytfVkCRGX7MC7J5TVshck0hav5lTF62Ore1+vaSvj8t5CITAbQK9/X175HwPbkxnvw5qViqxS4lGN9B+8zwrp9cP2cSe2fKqcWo66QjkzGK14JP99e3MkqWjEpm/A1Ibx+qA3tY6f9XFbLFIXQisTWCPpFP3MNd84qEkwVGfgHCkfWlRnCK+cPPLT7AgS98275++0Ffztd51SYbHsPqJjeTBDxmSp6Pb4PPpEx7NgX4aQ7+rldWTTs8hcZIeoFtJpzrgLcit/tUBfNFGbT0HQect2upmQk85+b1t7sCyW468dtsff/zxtoE1j47MM+I8atuC80jmvZxH467AebQGvudgx7sQD7DevsY5vBSEOdeLOvTs3cDOzo3ueifFOQlBc7LfWEu1Y++tj83QS/pKB2Qgs1fo32qvsnQtPbV33YbeHGesXz3paOHcWDkzi9Aq1OsuoLbfA7a3mFV2rkMgBJYTWJp02N+6+eDI/rxViCOj3++ifVZWnUvxSHp4jFHs8DrOiU+6+avyvK+36camF9s0l4+Rbs6Lc+xtzUN9L6663DOdr5p0esnj1p1CbxyggMprSVm6mKOFluNUJ0DnLdqQW+eSs9/bBr8qU3dLa7flnc7//tqreGvtrsB5tA98/+H3W7/TYQ/DEJ+nSDddSx/1m40RksM4FQ/mih1ep34a63rRhk6j+ZHVSlqaS/I5MkfvXVxLJ+atTFzeGc9XSzpaEF9MGXwLDNBadwM49+i3diS/HluLWfvkOgRC4D4CeySdOkcvRmABfW99/EU/Bf8aozyYK3Z4XaVEH8kYJYk6rsZBbNLNn/elX6u+6lQZuYwzn08nHS2Y7uA46i4OA3tOMQLDGJfHucMGPq+lRY6zdFz6h0AI3CYw2tO3R8/38PjgN6U1FnkcGkknLtR4g9z//Oc/7/9/o9jhAd71qDGKNo9ZPn+dr8Yy3ahLJ/pTaj3tzHOv3a7TGc6nk869ygJaMO+VsXScHGfpuPQPgRC4TWCvpHNbk2N7KDmQEPYongj3mG+rOTZPOlspPpKbpDOik7YQeIxAks5j/O4dnaRzL7kdxpF09Ja1vqXdYfpMEQJPSYBkw0dZ7C3/uOspjT2hUUk6J1yUqBQCIRACIXBuAk/58dq5kUe7EAiBEHhdAkk6r7v2sTwEQiAEdieQpLM78utNyP+LLf0MX3/Z0/tz0utR2E5j/7+SymvU9qhG/qfAS9f30bkz/nUJJOm87tpPW56kM43qoY6jZz5GbfdMOvpPaf0hTk2A98yTMfsR0I3eXn/Cfa9lSTr3ksu4EFiZwCixjNruUaP3Z8/cYPAi8STp3EP2uDFJOsexf9qZCRR83QdfhKg/CSc4UHA42vjac/1ZqwcN3b22/tzVP8KhXTK93mUJMMFJevhT4QRI1dPHizaG2l0ufbGtpb/L2Pr8Fkvngh1+Z9mzj3cWfIQlu1sfZ40Sy6htCY+qu/TRmksW1742qu8dq9y67u4rbrv7irN8ZA16Oj5S7/q7r1Pv7Pyac/1MAra53aO2ng+hf28cOmgtdXQ9H7F97bF5p7M20Q3laWPjeBSu9cWLclQFCl2zqXlpDOP8WjKp6xXaJFd9GHfr+67YCD6vdKqbVH04aqOo70gv6bL2UXPLZl2jC8mDeo4Uv1Y/2TPSCwbOgb4tzpIxalOfJUf3ndY4dJP9rfZah829taKtJYv+HojRSd+1KJYap2vGOHP0qNdVt0evR76Obb6Ofs25/BkdZtpkZ5XJWMlwZi5TY3vr8CiHtcYn6axFcgc5NVDgZAR+6kcOh2Pq7kdHbWacWw7dMwEnVn/1YaPj/L6p1KZjld0KDi7bNxAy6rXkbn0csURfMdRRDOr6uJ6SqTEcK3dn4WM5H7XVvjPXI10Zz9rVNa+2e2DkvGUTa67fpal6McZliBHz+HkdV/VgXq1B7bvG9cjXq4/6tZ+jB3przXttS/eI2zdi5v2OPk/SOXoFFsxfAwVONpt0cPhWYdNrI7TaqWNsDUDqK0dn49c5quylG6puTM259VE2VXvEoserro/rCQtnWNlItvfx8aM18H6z5yNdkVH1nZWLnviC7Ngq6fTWYFbPe/rJL9zXq4/6tZ8zH2ykd69t6R5xO6Rfy2+939HnSTpHr8CC+Wug8EA0cjgCiL8l9ymRqY80vN7PfR6v93Pm4OWFa20y6qWj+tXruhHrtcve8lx6tTYvvLirbrVpnOxzHbFFLAgsrIeu1W/EedSm8UuO1ZfqWGxQ4qhtt65r4HTbfSw2uV/6tVhSV8toDWrfLa5hozV229CVhORtOq/2MK7Vpn61Tdc+rmXbrfbWmL3rknT2Jv7AfNpsODYv37By1tYmZUqcUeN8Y9CmzaJ2OXitp12BqLapHnmMlywdmZ+igFvraasbpl6/Cdjhn1ssR7ZX+8TF146kxR9MiEmVN+LsbY+g6CWd0dr15hMvrSlHbFKp7e63Pp9/RKYxLkfyOFZm4ux91jofzeXrig6sq/YP6+tMVI9eo7bqQ/ITjXM51UbXx3nWfkdeJ+kcSX/h3L1AsVBMuodACOxAgGTRSxCjth1UO3SKJJ1D8S+bPElnGa/0DoEjCYwSy6jtSJ33mDtJZw/KK82RpLMSyIgJgR0IjBLLqG0H1Q6dIknnUPyZPARCIARei0CSzmutd6wNgRAIgUMJJOkcij+Th0AIhMBrEUjSea31jrUhEAIhcCiBJJ1D8WfyEAiBEHgtAkk6r7XesTYEQiAEDiWQpHMo/kweAiEQAq9FIEnntdY71oZACITAoQSSdA7Fn8lDIARC4LUIJOm81nrH2hAIgRA4lECSzqH4M3kIhEAIvBaBJJ3XWu9YGwIhEAKHEkjSORR/Jg+BEAiB1yKQpPNa6x1rQyAEQuBQAkk6h+LP5CEQAiHwWgSSdF5rvWNtCIRACBxKIEnnUPyZPARCIARei0CSzmutd6wNgRAIgUMJJOkcij+Th0AIhMBrEUjSea31jrUhEAIhcCiBJJ1D8WfyEAiBEHgtAkk6G673n3/++eXbb7/98tVXX729fvnllw1n21/0Tz/99G7b999//+Wvv/66qYSPgcvXX3/95ddff30f58xq23unE59gC3q3bBupDTsYtnzFmc1yHs21d5uvKfbN7IM6hnE//PDDu+rOhDaun6nIvrrelYuzhI/8Z5bzEcySdDairiAip8BZvvvuu78F2I2m3kUsdvmGYJN4UOgpMeqngC1mPRlnra9rjD2sOfWjokDSCpz3ch7Nt2fbvfugsnSd4frhw4f3mxz64ou3OLuMM5+zj3jhD77HlrCsfnMme5N0NlqNuuhcP8sdWXV+XfOu7tbGHyUd2lqBd6MlWl1stY3rmTtOfKOVsMWVdoquZzivbtydAu/dB6OkQxsM5CscPTjfqerphlW7lrBkbMunzmBkks5Gq+CLLuf58ccfT+sISzB4QFAA+Pnnn6feycHCPwLQxlBAhZE+nrpScIWf7k51zrXX9RjT5+PHj+8fxepjxUc49+bau/7efSC/kq+IifSXv9AOv2csihvYSrnF0pmdee8k6WzkrXIQBZ7qNBtNu4tYBUMSzTfffPP2kaHq+OhjtmiTwEpBxO9YxXBW3tH9WGuSJjagO4U6nff0o48HCd3R/v7772+J/FHOvXn3qNcaProPkCNGt/xmD7v2mAObW/thhiU+JF576LpkjiSdJbQW9GXRuQvzgDMTgBZMcVhXJQh36tn/v6hKi4lkwk1FwVd3eqo/65G1Zs1lQ8umlu5ioDaxJOkQdNbgLNl7H9faB2JCwql+cc8Nz94c7pmvJp0lLPE9/t9ryU3gPTreMyZJ5x5qE2PqRmDx9a5gYvjpu7AhCJYqnPu17kb9Tk19daxMWjKpu0rxwIjOBAlPGEpCXqd+zsk5+Dl9K+ezs5nZB9joybplk9tduVY/ao2/Yh1c3C9mWMrOykj1Zzgm6Wy4CmwG/f9E/Ux6w2l3E00gIFjw8oSDAr2kowDDmMpEQbknczfDHphId6PYUJOL7Kv1TOcsPdDUtsr5AVV3G3prH8gnYKci/+n5gsao3cdKxlWP1TZs1Lr3WFZe1YfOxCJJ50yrEV1CIARC4MkJJOk8+QLHvBAIgRA4E4EknTOtRnQJgRAIgScnkKTz5Asc80IgBELgTASSdM60GtElBEIgBJ6cQJLOky9wzAuBEAiBMxFI0jnTakSXEAiBEHhyAkk6Gy6wnsvg7+z52/tnK/48wexzAc6kcnF5tNXneK7Ar/ccxS3d/TkdPZPBGH/uBya8rvZMSn2GZFZ/t92fbaryYOLMbrF+9nbto1nOe/NI0tmIuDbGp0+f/vZdXBtNt7tYHNoTDY4+s/Hpx4tCgPZvaZiVsbuxkxOy5v7zFdg389MGsBQ7+Y0CRuU8qcppuukmQ/ZURj1F6Yd/caTAxxk5556MV6yHM2x4ifnZOCTpbLwi2nQKtBtPt4t42SSn1rXfjc4oonGSc/WkU/Xn+p53JgRX+QtsPLnPcD1Tn6o/1zCRfbO6upzZxDUr+1n6icvnz5/ffAZmZyxJOhuvigLr0k22sVoPiZdzcyfPOclm9qcNfOL6TkBBmqB0xY9MPFnoztzr3PbeubOlj4K0mFwtAbGmMKBwjv73/MSHc5TPickVP4btrf8j9WKkmJOk8wjNC4+VAzxj0nnkK/cVOHobQ+1X4samv+enDeTet3xF7QriGnfmo5IOOktv1c3qTf9RsqV96bvs2bmv0o99JL7yk97eOtqmvNPZeAXkAGyMZymyyTd6fdcyslUJ5damYBNdiRu6cvctu8RJ1yMm6nvLXtoVXEbyztKG7TBxu5asK+NGCQc7l/jeWbisqYd8R+/8/HiL3Zp6zMpK0pkldWc/OYRvujtFnWpYDX4EEg+GSizV6QkQfBxyKxDTz//I4FTGd5SpwQ8bPTHLF7wOUWJ1y0fU7xa7jnqHVKOz/6d/a12x25O1FMWfqv+ozY/V97ztFc/lZ2f1kySdjbxSC+93Ha2NtdH0u4hls8s+TzhMrgBZg4aP0Vj1UfCh/qqf07PRZVdNLvKJWu9217Euj7azBpKRw+lGo7eust9t8zFiIvvlW6qvvjfS5RXa5GfO80x2J+mcaTWiSwiEQAg8OYEknSdf4JgXAiEQAmcikKRzptWILiEQAiHw5ASSdJ58gWNeCIRACJyJQJLOmVYjuoRACITAkxNI0nnyBY55IRACIXAmAkk6Z1qN6BICIRACT04gSefJFzjmhUAIhMCZCCTpbLga/oDbVR92HOHRQ308pKcHPEf91aZxPqY+8HfVB//uWfP6AKgegqy8lnLW+KOPdW1nH1p0Lv5AbZUHlzwg+r9fB0ScgceZ402SzkY7kqeCP3z48Pa9UExBoPUgu9G0u4klILg92Dez8enDa4aH+u1m1IMTEQzrV75wTf2oVJbet7bNcnYZR57Xp+Mro55u9MO/xE5+Q/9ZGT3Zz1h/pXiTpLOTB3IHPBOAdlLnoWlqING1343emuBW0rkir5oQuK7vWlpcamJRH3GlnaLrJZwl66hjtY1rmMBmSXE5STq3yZ15/yTp3F6/VXrUgLSK0IOE+KbnnCC49Pd04OHvlKopV3uXg/6us+7Mva7aqGsFYoIxL3FZg7PmOOrofq81z+/pbL8azn372ZbNkKSzjNddvQkqV7o7vWWkguEjv6ejAMTdey1nvkuruvo1CeaR39NBlt7NIGsNzq7fEecKfkrC6KC6WX1GviJ5z7S/Zrn0+p093iTp9FZupfqzO8A9Ziow+kZfmih6gUSyab9aQWf/OE224ANLCnII0hr/COcl827RF9vrx2nYNru+9NM7v55+S32vJ+cZ6q8Qb5J0NvQ0NowHjA2n2l20AqMm9jtZ6vSxWy9g9ILJFTaNbK7HGvyqLa0kUmWIG2MptzjX8We71rs12FA41t9JwkZP1rIBn+r5j/pwrL7nba90DscrxJsknY28UsGDzeQvHONZCptdtnHuRfbXoKEAo3EcNVZB+cqMSBayrQYA2VfrfQxjlXDEc8RZfc58JNGM/pRXPuF2+xjxFBv5lurlP2dmsLVulYnYnHEvJels7Q2RHwIhEAIh8E4gSecdRU5CIARCIAS2JpCkszXhyA+BEAiBEHgnkKTzjiInIRACIRACWxNI0tmacOSHQAiEQAi8E0jSeUeRkxAIgRAIga0JJOlsTTjyQyAEQiAE3gkk6byjyEkIhEAIhMDWBJJ0NiTsD/XpwbYNp9tdtB7qw7b6EGhPGR/DOP3uR+/htqs9+OcPNcq2HotaLwbO0uUt4VxlH3ktu9Cflz8EOqMXPlBZuh/Vh21nZF61zyimPMp5LyZJOjuRZqN5MNlp2s2mqfYQBGYSxGw/FEce/a9S2PT3/J4O9unbCrC55yfqszRoH8mv6lwZ3dKN9YeHc8V+TzTVF2/JfJZ2t/tRznsySdLZifaSYLuTSndPUx1c1x4IesJnOXCHf7XfH6q2cT17Z6+xHkgqw6UBu44/4rrawzVMsPdWkQ/89ttvf0s6jPXxcCExcXylIp/B5kc4780sSWdD4mwCAjGbbCYgb6jKqqI9+MnG2d/TYaPAQ6/eu6OrvcsBsOvMuV4eIFsLoeAKyxo86O/MbslqyT+yDn3hIDtIDjO/p6MbGXi4vyGnMmKO+vHbkTZvObf2W40p93LeUtee7CSdHpmV69koz5J4FAQe+T0d8GoD1UDqQXjlZdhUHMF16e/pEFz9Z81rQHWFFYgrL+9ztnMFQyVg9FPdSFf6yE75G36hgjzduHz8+PEl3+l4TBHTpZzFc89jks5OtGtw2WnaTaZR8PMkem+iYJMouKCsZHvdJkZsIBSdCYQEA7dF160paVPwrMfWOOpgdpUi+3w965pXW3QzUnlw3bId3yNx4zuvVDym3MP5KFZJOjuRxyk8SO807WbTEEQ8AHDu1wocvf8URzGCRf1tlStzqom32qKEOvIDxvSYabwH8M0WeCXB9V1Ka81rsq5TVxneLj+D26sV96/KqMX5LHySdDZaCW0G3a31AslG0+8iliQj+zzhMLnsr3YrwDCufg5/xaBaQRMIxKQmF9lX611GTTrOC7lXDK4EQNa6tebYLht7ttWAKt/qyXOez3TudmN73Vu3OJ+FRZLOWVYieoRACITACxBI0nmBRY6JIRACIXAWAkk6Z1mJ6BECIRACL0AgSecFFjkmhkAIhMBZCCTpnGUlokcIhEAIvACBJJ0XWOSYGAIhEAJnIZCkc5aViB4hEAIh8AIEknR2WORbzyHsoMImU8iu1jMDrQnrcwaM41Wf8dHzBrW+JfNsddIdu+pzSC1d9eyOWOioZzBq+xWZ1HXvPY/jfNy3xEQ8R20u46rndc2x1wv8xER+Qju+oXqOM5xd7l7nSTobk2bh+bZkXmd1gnsQYIs7PBvjnoDIGN9UBChY8bUm98i7x5a1xkh3Eg+F4z3flO0sYeAcKq+1dN9KjgKofL8ymp13xHLUNiv/TP1Yf+0JbPNv7aB+9HCx7Kj7U/VnOCbpbLgK2mCfP39+C9DaeBtOuYvoGkh0PbMZXMFWsFBQ9cDrY858XnXmeukdp3wGNnD1LwPFdnzIk9CZeUhfvzlBf5jAZkmRX7TGjNpa/a9Up70Ft5Y/9Gypvtjrd0R9ks6G1LUZ3HE2nG430R4YOSfZzP60gSspPqpjYylAnXnTSN96dHs412tJgK12u0z5kRjV+c947fZwju4zP23gtrRuTtQ+alOfKx/dPp3zrdr6GA3/UNFepG3pDaBk7HFM0tmIst+RKlhQ9wxFSeeRnzbQBkIWhSMBSdcerK7CjACw9KcN3DZxhY0KdQQQAgn/p7E0YEvOUUetoxIweqhuVidPvHXMqK32vdq11l5xA7/AB+BHGcUVxpw18STpbOCJcgbdjfjxSnepPTSyz526JpHeWN8s2jzUce6cdK7/PB7JO0ubbFCQECdd39LTA3OvL3M4t16/s9RjO2vpOi9JFKPgOWo7i/336lETDnJae6zHEt+rH83eq8va45J01ibakLc0+DREnK6KIILDq9SAqU3TSrIzwaLK1zxnPtagUO2UH3iylj2M9f8wVr0fqzxvO+s5fsAfU2AfpWUna01iwj4v4uUJS+2jNvW56hFG3Gz1eKi+snV7z+wrSTq+Uhuda4PIWTaaZnexJBq9I/EEhCK9pCMWrUDiBlwx6aA/aywmNbnI9lrPuJq0xcLltRK4+p35qCAKl9Y7117SGQXOUduZWczo5vtKvqS1d5a0wYGi/Vb7z8y3d58knb2JZ74QCIEQeGECSTovvPgxPQRCIAT2JpCkszfxzBcCIRACL0wgSeeFFz+mh0AIhMDeBJJ09iae+UIgBELghQkk6bzw4sf0EAiBENibQJLO3sQzXwiEQAi8MIEknRde/JgeAiEQAnsTSNLZiLgeBNTDWhz1gNdGU+4uVg/1zdpWH2ATG3+w1Pu0HiTc3ciFE/rDe7P6+wOgYqKH/jS9uFzRh6R7zzbZ2Dq6j8lP6t6a5dySf9Y62V3Xu8eyMpndk0fYn6SzEXU5QQ0eG023u1js8g3BJlFQWKIMYxhLUcC+KjMCQv3Kl5nf06ksKz/5Eqycee13xmvprjWtjEY6z9p7r++N5j6yDbu1L3y9Ryxr25H635o7SecWoTvbr+QES02stum69fUuI9kkGQ/KBA8loNG4s7bV4Mc1d5wKuD29byUdyb3Vryf/yPqqM9cwubXOJCcCLsdbRQH6Vr+rtcPIk86IpfYgfc5eknQ2WiE5gT5SmAk+G6myuli/W+WcZPPo7+mIF1/dz8cl8FqaxFY3dKFAD366W/W6njgFYvmKBxpPzDXo9OSdqV4JE50URGd+nkG28k3J4uKJSu+KaXNeZ7L9UV3Ei70hfviTzrFbLLV/xIrjWRNQks7bEm7/Dw7wLJ89K+ms+Xs62jQeQDxgbb9Cj89AQCAIYIMC5EzS8ZnFgXGc+9fTKxBTf5WiNcQeXhTVjWzAVg+c8jmSTS3Ic7+p7Ve9rnaJ2wzLM8ebJJ2dPHK0aXZSYbVpFBj9nYjfkd+aSOPZRCqqY7OoXC3IYo8HypZNsm10VHBR4PW7V507p5Gso9tkg681QdOvWzrWtR+xZG+RdDg+U4GRJ9MlLM8cb5J0dvLS6kA7TbvZNNijO1cm8bsvrnF6kpJvGinD5vGEpfqWTOquUmrirXYqcLZsl43ixthaqGvxrP3OdF2DH4zq7waxxp6s0b81zv//z21k/NW4uP6982pXi0llKVl1rOrPcEzS2Yy8zqoAABIaSURBVGgVFGB0Z/qMm4JEI/s8AYFUwbPaLS5silrU1pNZ+5/xmsQg/WtykX213scwtpVwsPWKSQe9STT6f7rWR8z4Qstu5+LjXB7jqu+d0S+W6CQe8iO30W13JvItjan7bsn8W/dN0tmacOSHQAiEQAi8E0jSeUeRkxAIgRAIga0JJOlsTTjyQyAEQiAE3gkk6byjyEkIhEAIhMDWBJJ0tiYc+SEQAiEQAu8EknTeUeQkBEIgBEJgawJJOlsTjvwQCIEQCIF3Akk67yi2OfFnDc78t/P3WO/PE8za5jz8+QPNr+d7aPPnENR+9mPvOYqR3pUJtlOncg9njT3D0de02jajH8/hVF9wZvW5pxmZV+3jz+PgF7U4l9k9WWVsfZ2ksyFhnOJZNwTO7U6NrUsf0ms9YU1w8YC74fKsLrplT+8pep+8shy13cPZ5e19riCpNa2MbumDvfgZHEnoFGRQx5GC3y31vbeBF/sHe4knnz59erMfNl64vkK8SdLxVVvxnM3mX9a4oujDRdVAouulDk8Q8aDMpqkb6XBjFyiA7h78uJ65s+8lHXFVwNb1Us4LTFi9a7WNa5jMrLP847fffvtb0qlK1jlq+7Ndyw+cIXVXiTdJOht5pDbMx48f378WxQPSRtPuItbvVnX3teSnDeBA4PGArI2Unzb4/1/V/yjnXZzhxiSeiDnnHYq+jn80VP5AQnEOrTH4kwfgVp9nqhMbt/lK8SZJZyNvxAn4qEiOIUdhE129KAg88tMGMFDCgon4PPqR3ZFsCX5r/rTBWpyPZIL/w0UvdFHdSC/6aO+IA3uqFvq4z9T2Z7zWXhEfbLxSvEnS2cgrdefBhlF5ljsyOb1/zNOyV3aPjgoukulJmfMrBRRsab17c5tGLNSGHHxFTNbgLNl7H7G9fpx2ax/oZkTvhv3IWBU4Xck/pPejR/kF9qu09t8tzhq79zFJZyPicgwFnNHd2kYqbCpWgVGT4OAeEBQ4RkFBfcSoJdM3luY667FufOzyhCGf8LpqywwT51zHn+26+j2M6tfxs8aerKsNVQbtMBj5VpXxTNfyI98bqtNeajE7C4MknQ1Xgg3GR2y6U5NDbDjlrqLZ+LKtBkIFzxoYfEz9M1htnJ7MXY27czLWWPrX5CL7ar2PYWz1E2dWOd+p5q7DfB/UNUeRpUnH5Yl1i9uuRu4wmfzHbXa7K5fqRzuoODVFks4UpnQKgRAIgRBYg0CSzhoUIyMEQiAEQmCKQJLOFKZ0CoEQCIEQWINAks4aFCMjBEIgBEJgikCSzhSmdAqBEAiBEFiDQJLOGhQjIwRCIARCYIpAks4UpnQKgRAIgRBYg0CSzhoUIyMEQiAEQmCKQJLOFKZ0CoEQCIEQWINAks4aFCMjBEIgBEJgikCSzhSmdAqBEAiBEFiDQJLOGhQjIwRCIARCYIpAks4UpnQKgRAIgRBYg0CSzhoUIyMEQiAEQmCKQJLOFKZ0CoEQCIEQWINAks4aFCMjBEIgBEJgikCSzhSmdAqBEAiBEFiDQJLOGhQjIwRCIARCYIpAks4UpnQKgRAIgRBYg0CSzhoUIyMEQiAEQmCKQJLOFKZ0CoEQCIEQWINAks4aFCMjBEIgBEJgikCSzhSmdAqBEAiBEFiDQJLOGhQjIwRCIARCYIpAks4UpnQKgRC4l8Cff/755dtvv/3y1Vdfvb1++eWXaVE//fTT+7gffvjhbZzXSebXX3/95ddff52We+aO1T63DRu5xm6vxx74iAfHJZz35JGksyftzBUCL0bgr7/++vL999+/B0AS0HfffTeVIAiijEXGqBCIkYnsZygkHSVYtwcOHz58eGdHvx4fEk6vzWUecX7apFPvjrhTcqfyjE9WZwFUAN7K+Cyk9/NrxnDNS2N1p8AY1dW5mNPHSM/qENp8Pr/0zTEEnpVADX7am7f2AXudoOl7vsfI93Gvz5XqYYNNt8oo2c7KuDXHFu2nTTrVWCDKUZVwlBS8L3X1bafaq3P6tTaDZHJs3SnUzYCMXj+/oxs5iPTLMQSejYAHP87ZKz/++OPNoKr9x529bvi0/53RM+4r7JTNHHsJyNnChNikjzF18+usznJ+2qSjdwYt+BW2w/RE4vWc1za/lpO33srT5nooqbHInljqfOjJi+LntV+uQ+BZCWivstd4UVQ3sll7jiOlt9d8D4/kXbVNiURxRHbAZZRYbrVLzhHH0yYdIPs7CHdUP6/QRk5Y2/yaRfL5JFeL3nL+3kbQWN2F/fe///3bZ7FqzzEEnp0A+4YbNg+avu969tf9qJtQ7UPGcT4KvD3ZV6uvvGbshpf//8+ZbD5t0gE0L4oCv64J5t988837f6g50NGCuEz6+WbgupV06lxsHr3TYV6X6XroXO3SXfU5hsArEKg3ZnU/wYA9xV5kD6q0xvkfCygJeTLT2Gc6Vl7YO5NoR3HwaD6nTTrAJrjjjBzr58BKGrR78gConFhtcmaXqc+W5bT0aSUd5JEwJIu7B7+DkPOrvTqE9JQORy945g+BvQn4vvMbNumh/Vr3iPYOe6uOo63uNcm7+lE8qt26+Vas0ZH+ta0Xy87A5rRJ5wxw1tDhmTfHGnwiIwRC4LUIJOlsuN56F6R3UxtOFdEhEAIhcAkCSTobLZM+ksv/5WwEOGJDIAQuSSBJ55LLFqVDIARC4JoEknSuuW7ROgRCIAQuSSBJ55LLFqVDIARC4JoEknSuuW7ROgRCIAQuSSBJ55LLdg6l/XmCpc8F6NkN/0OL+qzBFf/qT3bVZyxGK+bPo+jZC+pU9EcptDkvtZ/9WNfVbZvRHZvrczrue3C5oq/0bK+2ue0j/3I/gclSzj191q5P0lmb6IvIw6E90bBRZgMiQYiny3nIVmPqn5fr+qwbp7XMsovAQOHoT9G3xlBXWXo/2sRIwftKTOo6VkZua+scv8LP/DsO4YrvIJuCTPpwfIbS20vY6w+mi404uO0jn/J+R5wflnTkKB8/fnx72v/nn39+e8JYTxnTzrnu/FQvSJ7x/U5Hm9SzvjapNoBketCU3NaRxdUYn6u16MxLPaXqyFgFkNY8V6kTx8q1rlHPHjGCk3jIHzxw0C6WPVlnqnd70Itr1lycerrSPuuLYteTdbb6ahvXvodG+ipp//bbb39LOooN8g2Os/xG852lrfpRTy/x8T2jvrMy1H/P46FJhyClTcRbSBzS72gcBBB5URTM6V+LnFptHHHIP/744+0oGYxjbgW9Kqd37cGRc9fXrznHvqpH666kN9dZ61t2ctPgLHq6az3g4BujJjLxW7o+vXn3qJcvM5d8y+t6OsCEQKxXL4A6956ss9X7GnOObfUrrVo6uz+07FY7zK7kIy1bax2c5Asj+5wtMrRnGDN7A1jn3uP60KSjICV47lzuVFoAOZf6twB5UPN2ZOPwHFV6fdWuYw0K/hkruvCi0E86ygGoU9uZHeFNycl/tE4kGn3xquq4IegV+vga1HXUzYQ2De+CxbYn80z1rD0BFRulN3U6n9FVfi8/0hjVL5GlsUce0Rdb9EIX1Y30oo9srb7FNXuJdnGBOefPVtxWt424Moont9pd1t7np006OJQ7EtfaiH5egQHbx6m9Bjzqe301hqMWnb66VrLkmkCpz5fRT/1o41oJ0xPVm6AL/6ON7k4PB7jAq1dYN/HwY49N5dmTe5Z62ScfECddz+pZ/VtyqL9awXbW2nVnXf262qQ95z6ic/mE73H6+56s8q5+XXnB1Pdeyz58xv//p9XnqLrTJh1A86LICXVNgNMddgXHgrhDqr1u3HqtfvVY52Kz1CDJHTnzoh9yKZ6MqsxnuIaD1gN7OPdrrVlrLWR/laF6jrSNxnrfs5zXxFuDg3xuFDDEjbEUXcPjigX9PSHU/YRN2EZSkc3Vziqjcm3JrDKuel1tg9XIf2RnZaT6MxxPm3SATXDHGTnWz4GBqrsfjtqU1PeClTawxnmQHC0G/TSGu4d6ByFdOHrxcYyvycr7XvHc7assxbq3FtjLmvk4BR9Yef2V2MgXsKEGh17S8TGMcz9yJrS15J6dT93LXHuRjW63t9ekQ5vGiElvrMu5yrnb5jFDe0o260j/2jbad0dzOCzpHG341vOzserHTQTSqwbTrXlFfgiEwGsQSNLZaJ258/I7Xd3lcleSEgIhEAKvSiBJZ8OV512N3gJzzLucDWFHdAiEwCUIJOlcYpmiZAiEQAg8B4EknedYx1gRAiEQApcgkKRziWWKkiEQAiHwHASSdJ5jHWNFCIRACFyCwG5Jh/9E97/mukWHv/La+j/ekZ+/Jru1EmkPgRAIgfUIXDbp8CfJjz4AlaTzmCORsPXXeUvWwh9kGz38tuQm5TFL1ht960HI3kz6k3rxxL9rndqWsO7Nt2e9rzc2LHmQ031MN6FeJybuR3vatsVc1T63beRf8BGPpZy3sKMnc7ek01OgVw94OVmrT5JOi8p+dZX/rfWSZto0rcDDens9MnldpRBc61e+1AeEW7YoKM/YOsu5Nc8RdUqcWtfKaKQT/jCTYFsPYo/knr2tt8aw9G9DoV+PT92fZ7J5KulUY2UAhikxKJgo08rJvL4FiPEaw1FZHaAAZgz1uuvVBvUxnEsPdHOZdU5vYxzz3Cr08fk0hmNLvtrddo13PW/Ne9b2Gkh0rTUa6Q0b8an9qJcMrbP8qPY94zX6+/pyzbrfssH30ciuJQF7JGfPNmzzPcL1zL7DVsZxvFVg3vOpW2PP2F79qKfjKNnOyujJ3rJ+KumgAAuLw2AoyYBAg2G8qoPUa8ZX56OOsXJIBS76qc03bHWsljyNQ66KdOQaGbxUqkzVj45uG+d+Z+vXnBNAZU9P39FcZ21r2TnzezpaY75Hj5sL1ldJRrbCiXrdfKj+Ckf3J/ma1/VsoA9fGguLke34Mn2vVFxnztnv9XsUW/ZovxBrYMKL8bWMAm/te5Vr7JTNHHtr7myxTTGHMXVfncn26aSDgbw+f/78BoHFBgbOoUDhoGrQkBMReFSQV5MOdRSODrtet+QpqLkeWjQPlJof+ZpPda1jtc9tY7xk0E86ywGoo3A8syO07O7VieXS39PR+mjNke/ryrkYibn49XQ5Uz1rf8/v6TBOdmMPNjsj6sScfXelovXFRu0N1Y3sqOvfsx+ZyHvWojhSbYSP+0y1/1Z77b/n9XTSwQgM/8c//vG2Kf75z3++f75Imxyqpzx96kZiA+mOV8lB46tj1uuWPIKaf+YpWRxbTjvjsFp05mvJwQa980Oe+tGXayVAT1Rvgi78j5KHOz0cbv3/hcY5I62jftnV2+qanx0Z+rLesqFlb8uG6octlvThdbUCC5jARqXaq3o/yi9gSGmxpI/7oI9/pvPKa8ZuePVi4dFsppOOgitJh0CMQbw4p42gCoxeqU5EP2D2xtSAU69bG1Mya3KjXk4r5+dYN0NLd+bx3+5hXE0g+T2d//vRpZJ1XYu6jtpQdX20lrRfpVSfrMFBNtZAWfdGZVR98Co80BM/8I+gW7ZoL3osaI3zmxqxZOwzl8oLe6v/tOyvvtfqc1TdoqRDsNUiEww8oGCk7uo5qq3WextAkenjFGSYR+fAqdfU0a6x6itnVD1HObPPR39kyp7RAvg8SrbIUpGNmkf1Pg49arJSv6se3T7OvfSSTl0fH6cxWjv5kMs9+7l8ARtqcJDttR6bnGW1mzbndHYGVT/fd609wB70farxzrKOo63FUWOvfBSPGjPq/tA+oX9tqz50Jh7TSWcLpdlIHvRxTn9XscWce8nEFr8zY96rB4+92GWeEAiB5yVwWNLRXZ8nnWe6e6m2tOx9XreKZSEQAiHQJnBY0kEdf9td30q21b1WLe9s9BaY45U/IrkW+WgbAiFwVgKHJp2zQoleIRACIRAC2xBI0tmGa6SGQAiEQAg0CCTpNKCkKgRCIARCYBsCSTrbcI3UEAiBEAiBBoEknQaUVIVACIRACGxDIElnG66RGgIhEAIh0CCQpNOAkqoQCIEQCIFtCCTpbMM1UkMgBEIgBBoEknQaUFIVAiEQAiGwDYEknW24RmoIhEAIhECDQJJOA0qqQiAEQiAEtiGQpLMN10gNgRAIgRBoEEjSaUBJVQiEQAiEwDYEknS24RqpIRACIRACDQJJOg0oqQqBEAiBENiGQJLONlwjNQRCIARCoEHg/wGI/KeV4DvLPAAAAABJRU5ErkJggg==)\n",
        "\n",
        "\n",
        "\n",
        "In this result, we should focus on the F1 scores instead of the accuracy. We can see F1 score is reasonable for all the labels but it has higher value for the classes where we had more number of records."
      ],
      "metadata": {
        "id": "bWKCt9J7r0XS"
      }
    },
    {
      "cell_type": "markdown",
      "source": [
        "## Another complex model architecture"
      ],
      "metadata": {
        "id": "G7YtQVC8nSpJ"
      }
    },
    {
      "cell_type": "code",
      "source": [
        "# I have a preprocessed text input and MFCC feature input\n",
        "text_input = Input(shape=(max_text_length,), name='text_input')\n",
        "mfcc_input = Input(shape=(40,), name='mfcc_input')\n",
        "\n",
        "# Text processing layers\n",
        "text_embedding = Embedding(input_dim=2000, output_dim=40)(text_input)\n",
        "text_flatten = Flatten()(text_embedding)\n",
        "text_dense_1 = Dense(100, activation='relu')(text_flatten)\n",
        "text_dense_2 = Dense(50, activation='relu')(text_dense_1)\n",
        "text_dropout_2 = Dropout(0.5)(text_dense_2)\n",
        "\n",
        "# MFCC processing layers\n",
        "mfcc_dense_1 = Dense(100, activation='relu')(mfcc_input)\n",
        "mfcc_dense_2 = Dense(50, activation='relu')(mfcc_dense_1)\n",
        "mfcc_dropout_2 = Dropout(0.5)(mfcc_dense_2)\n",
        "\n",
        "# Concatenate the processed text and MFCC features\n",
        "combined = concatenate([text_dropout_2, mfcc_dropout_2])\n",
        "\n",
        "# Additional dense layer with dropout\n",
        "combined_dense = Dense(200, activation='relu')(combined)\n",
        "combined_dropout = Dropout(0.2)(combined_dense)\n",
        "\n",
        "# Output layer\n",
        "num_labels = y_train_encoded.shape[1]\n",
        "output = Dense(num_labels, activation='softmax')(combined_dropout)\n",
        "\n",
        "# Create the model\n",
        "model_complex = Model(inputs=[text_input, mfcc_input], outputs=output)\n",
        "\n",
        "\n",
        "# Define custom learning rate\n",
        "custom_learning_rate = 0.0001  # You can change this value\n",
        "\n",
        "# Create an instance of the Adam optimizer with the custom learning rate\n",
        "custom_optimizer = Adam(learning_rate=custom_learning_rate)\n",
        "\n",
        "# Compile the model\n",
        "model_complex.compile(loss='categorical_crossentropy', metrics=['accuracy'], optimizer=custom_optimizer)\n",
        "\n",
        "# Model Checkpoint\n",
        "checkpointer = ModelCheckpoint(filepath='saved_models/audio_classification_complex.hdf5', verbose=1, save_best_only=True)\n",
        "\n",
        "# Training\n",
        "start = datetime.now()\n",
        "model_complex.fit(\n",
        "    {'text_input': X_text_train, 'mfcc_input': X_mfcc_train},\n",
        "    y_train_encoded,\n",
        "    batch_size=32,\n",
        "    epochs=500,\n",
        "    validation_data=({'text_input': X_text_test, 'mfcc_input': X_mfcc_test}, y_test_encoded),\n",
        "    callbacks=[checkpointer],\n",
        "    verbose=1\n",
        ")\n",
        "duration = datetime.now() - start\n",
        "print(\"Training completed in time: \", duration)"
      ],
      "metadata": {
        "id": "7BJV7r--nWfA"
      },
      "execution_count": null,
      "outputs": []
    },
    {
      "cell_type": "code",
      "source": [
        "# Evaluation\n",
        "test_accuracy = model_complex.evaluate([X_text_test, X_mfcc_test], y_test_encoded, verbose=0)\n",
        "print(test_accuracy[1])\n",
        "\n",
        "# Prediction and Classification Report\n",
        "y_pred_probabilities = model_complex.predict([X_text_test, X_mfcc_test])\n",
        "y_pred_labels = np.argmax(y_pred_probabilities, axis=1)\n",
        "y_true_labels = np.argmax(y_test_encoded, axis=1)\n",
        "report = classification_report(y_true_labels, y_pred_labels)\n",
        "print(report)"
      ],
      "metadata": {
        "id": "GmFDzmtyne4y"
      },
      "execution_count": null,
      "outputs": []
    },
    {
      "cell_type": "markdown",
      "source": [
        "![image.png](data:image/png;base64,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)\n",
        "\n",
        "\n",
        "Making a complex model didn't help much as we are short on the tariing dataset so to make a better model we need more records and make the dataset balanced."
      ],
      "metadata": {
        "id": "H9BOiBzlsM_V"
      }
    },
    {
      "cell_type": "markdown",
      "source": [
        "## Additional Comments:\n",
        "- Our model has shown a reasobale perfromanec on a very small set of data. Considering this data was highly imbalanced made it challenging to get a high accuracy or F1 score.\n",
        "- Additionally we can use the SMOTE techniques to make the dataset balanced and run models on the balanced dataset.\n",
        "- Since we were dealing with the translation of the korean texts so it would be better if we can use the english texts as the model inputs.\n",
        "- Regarding the deployment of model, the trained model is not very big so it can be deployed easily."
      ],
      "metadata": {
        "id": "vwehtdf0sYC7"
      }
    }
  ]
}